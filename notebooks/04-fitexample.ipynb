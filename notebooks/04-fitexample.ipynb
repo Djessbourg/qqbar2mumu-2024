{
 "cells": [
  {
   "cell_type": "code",
   "execution_count": null,
   "id": "675e7dbe-dbd4-4c79-b375-b00f6c97824e",
   "metadata": {},
   "outputs": [],
   "source": [
    "import numpy as np\n",
    "from scipy.optimize import curve_fit\n",
    "import matplotlib.pyplot as plt"
   ]
  },
  {
   "cell_type": "code",
   "execution_count": null,
   "id": "8389e73b-a20f-41c3-84d0-5b19e15f8e65",
   "metadata": {},
   "outputs": [],
   "source": [
    "def func(x, N, mu, sig, alphaL, nL, alphaR, nR):\n",
    "    AL = ( nL / np.absolute( alphaL ) )**nL * np.exp( -1 * np.absolute( alphaL )**2 / 2 )\n",
    "    AR = ( nR / np.absolute( alphaR ) )**nR * np.exp( -1 * np.absolute( alphaR )**2 / 2 )\n",
    "    BL = nL / np.absolute( alphaL ) - np.absolute( alphaL )\n",
    "    BR = nR / np.absolute( alphaR ) - np.absolute( alphaR )\n",
    "\n",
    "    result = 0\n",
    "    rel = ( x - mu )/sig\n",
    "    \n",
    "    if rel < -1 * alphaL:\n",
    "        result = AL * (BL - rel)**(-nL)\n",
    "    elif (rel >= -1 * alphaL) and (rel <= alphaR):\n",
    "        result = np.exp(-1 * rel**2 / 2)\n",
    "    elif rel > alphaR:\n",
    "        result = AR*(BR + rel)**(-nR)\n",
    "\n",
    "    noise = np.random.randn()/500\n",
    "    return (result+noise*(noise>=0))*N #/ (np.sqrt(2 * np.pi) * sig)\n"
   ]
  },
  {
   "cell_type": "code",
   "execution_count": null,
   "id": "f2707ea4-bed3-404c-bdba-94380feebd13",
   "metadata": {},
   "outputs": [],
   "source": [
    "N = 1000\n",
    "mu = 3.1\n",
    "sig = 0.70\n",
    "alphaL = 10\n",
    "alphaR = 1\n",
    "nL= 3\n",
    "nR= 3\n",
    "\n",
    "x = np.linspace(0, 10, 50)\n",
    "x_data = np.array(x)\n",
    "y_data = np.array([func(j, N, mu, sig, alphaL, nL, alphaR, nR) for j in x_data])\n",
    "y_error = np.sqrt(y_data)\n",
    "plt.errorbar(x, y_data, y_error, marker='o', mfc='blue',\n",
    "         mec='blue', ms=2, mew=5, ls='')\n",
    "print(y_data.sum())"
   ]
  },
  {
   "cell_type": "code",
   "execution_count": null,
   "id": "e511ef43-acd9-40d3-b744-661db226c56a",
   "metadata": {},
   "outputs": [],
   "source": [
    "def funcVec(x, N, mu, sig, alphaL, nL, alphaR, nR):\n",
    "    AL = ( nL / np.absolute( alphaL ) )**nL * np.exp( -1 * np.absolute( alphaL )**2 / 2 )\n",
    "    AR = ( nR / np.absolute( alphaR ) )**nR * np.exp( -1 * np.absolute( alphaR )**2 / 2 )\n",
    "    BL = nL / np.absolute( alphaL ) - np.absolute( alphaL )\n",
    "    BR = nR / np.absolute( alphaR ) - np.absolute( alphaR )\n",
    "\n",
    "    return np.piecewise(x, \n",
    "                        [( x - mu )/sig < -1 * alphaL, (( x - mu )/sig >= -1 * alphaL) & (( x - mu )/sig <= alphaR).any() , ( x - mu )/sig > alphaR],\n",
    "                        [lambda x: N * AL * (BL - (( x - mu )/sig))**(-nL), lambda x: N * np.exp(-1 * (( x - mu )/sig)**2 / 2), lambda x: N * AR * (BR + ( x - mu )/sig)**(-nR)])\n",
    "\n",
    "def funcVec2(x, N, mu, sig, alphaL, nL, alphaR, nR):\n",
    "    AL = ( nL / np.absolute( alphaL ) )**nL * np.exp( -1 * np.absolute( alphaL )**2 / 2 )\n",
    "    AR = ( nR / np.absolute( alphaR ) )**nR * np.exp( -1 * np.absolute( alphaR )**2 / 2 )\n",
    "    BL = nL / np.absolute( alphaL ) - np.absolute( alphaL )\n",
    "    BR = nR / np.absolute( alphaR ) - np.absolute( alphaR )\n",
    "    \n",
    "    result = 0\n",
    "    result += AL * (BL - (( x - mu )/sig))**(-nL) * (( x - mu )/sig < -1 * alphaL).all()\n",
    "    result += np.exp(-1 * (( x - mu )/sig)**2 / 2) * ((( x - mu )/sig >= -1 * alphaL) & (( x - mu )/sig <= alphaR)).all()\n",
    "    result += AR * (BR + ( x - mu )/sig)**(-nR) * (( x - mu )/sig > alphaR).all()\n",
    "    result *= N\n",
    "    \n",
    "    return result\n",
    "\n",
    "def funcVec3(x, N, mu, sigma, alpha, n, alphabis, nbis):\n",
    "    A = ((n/np.abs(alpha))**n)*np.exp(-(np.abs(alpha)**2)/2.)\n",
    "    B = (n/np.abs(alpha))-np.abs(alpha)\n",
    "    C = ((nbis/np.abs(alphabis))**n)*np.exp(-(np.abs(alphabis)**2)/2.)\n",
    "    D = (nbis/np.abs(alphabis))-np.abs(alphabis)\n",
    "    y = np.array([], dtype=float)\n",
    "    for i in x:\n",
    "        if(((i-mu)/sigma > alpha) and ((i-mu)/sigma < alphabis)):\n",
    "            y = np.append(y, np.exp(-((i-mu)**2)/(2*sigma**2)))\n",
    "        elif ((i-mu)/sigma < alpha):\n",
    "            y = np.append(y, A*((B- (i -mu)/(sigma))**(-n)))\n",
    "        elif((i-mu)/sigma > alphabis):\n",
    "            y = np.append(y, C*((D+ (i -mu)/(sigma))**(-nbis)))\n",
    "        else:\n",
    "            y = np.append(y, 0.)\n",
    "    return y*N"
   ]
  },
  {
   "cell_type": "code",
   "execution_count": null,
   "id": "9f28d55a-80ac-4da7-bb90-38fe33e3ba0a",
   "metadata": {},
   "outputs": [],
   "source": [
    "bnds = ((0, 2.0, 0.5, 0, 1, 0, 1), (np.inf, 5.0, 1, 20, 4, 20, 4))\n",
    "\n",
    "params, covs, residual, fjac, other = curve_fit(funcVec, x_data, y_data, sigma=y_error, p0=[1, 2, 1, 1, 1, 1, 1], bounds=bnds, method='trf', full_output=True) \n",
    "print(\"params: \\n\", params) \n",
    "print(\"covariance: \\n\", covs)\n",
    "print(\"residual: \\n\", residual)\n",
    "\n",
    "y_fit = funcVec(x_data, *params)\n",
    "plt.errorbar(x, y_data, y_error, marker='o', mfc='blue',\n",
    "         mec='blue', ms=2, mew=5, ls='')\n",
    "plt.plot(x, y_fit, color='red')\n",
    "\n",
    "sigmas = np.diag(covs)**2\n",
    "e_fit = np.sqrt(np.sum(sigmas))\n",
    "print(\"fit error :\", e_fit)\n",
    "\n",
    "plt.fill_between(x, y_fit - e_fit, y_fit + e_fit,\n",
    "                 color='gray', alpha=0.2)\n",
    "    \n"
   ]
  },
  {
   "cell_type": "code",
   "execution_count": null,
   "id": "18bb20c7-d28e-46c1-a7de-f7b03721725d",
   "metadata": {},
   "outputs": [],
   "source": [
    "plt.show()\n",
    "plt.ylim([0.001,20000])\n",
    "plt.xlim([0,10])\n",
    "plt.semilogy(x, y_data, 'o')\n",
    "plt.errorbar(x, y_data, y_error, marker='o', mfc='blue',\n",
    "         mec='blue', ms=2, mew=5, ls='', color='blue')\n",
    "plt.plot(x, y_fit, color='red')\n",
    "plt.fill_between(x, y_fit - e_fit, y_fit + e_fit,\n",
    "                 color='gray', alpha=0.2)\n"
   ]
  },
  {
   "cell_type": "code",
   "execution_count": null,
   "id": "46519f33-17d9-496f-9e6b-43ba0ee4c2eb",
   "metadata": {},
   "outputs": [],
   "source": [
    "#res = y_data-y_fit\n",
    "err = np.sqrt(residual['fvec']**2/(residual['nfev']-len(params)))\n",
    "plt.axis((0,10, -2, 2))\n",
    "plt.errorbar(x, residual['fvec'], err, marker='', mfc='blue',\n",
    "         mec='blue', ms=2, mew=5, ls='-')\n",
    "\n",
    "x1, y1, yup, ydown = [0, 10], [0, 0], [1, 1], [-1, -1]\n",
    "plt.plot(x1, y1, linestyle='--', color=\"black\")\n",
    "plt.plot(x1, yup, linestyle='--', color=\"black\")\n",
    "plt.plot(x1, ydown, linestyle='--', color=\"black\")"
   ]
  },
  {
   "cell_type": "code",
   "execution_count": null,
   "id": "15966f8b-f3b9-4c05-9c7d-6d73e069e5e0",
   "metadata": {},
   "outputs": [],
   "source": []
  },
  {
   "cell_type": "code",
   "execution_count": null,
   "id": "b3ebef19-7c8b-4f82-a2ff-0a31305161a9",
   "metadata": {},
   "outputs": [],
   "source": []
  },
  {
   "cell_type": "code",
   "execution_count": null,
   "id": "b88282a4-8a1b-46bf-8bc2-0f941ef76748",
   "metadata": {},
   "outputs": [],
   "source": []
  }
 ],
 "metadata": {
  "kernelspec": {
   "display_name": "M2 RPS EXP (2024)",
   "language": "python",
   "name": "qqbar2mumu-2024"
  },
  "language_info": {
   "codemirror_mode": {
    "name": "ipython",
    "version": 3
   },
   "file_extension": ".py",
   "mimetype": "text/x-python",
   "name": "python",
   "nbconvert_exporter": "python",
   "pygments_lexer": "ipython3",
   "version": "3.12.7"
  }
 },
 "nbformat": 4,
 "nbformat_minor": 5
}
